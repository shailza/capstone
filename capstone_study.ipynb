{
 "cells": [
  {
   "cell_type": "code",
   "execution_count": 2,
   "metadata": {},
   "outputs": [],
   "source": [
    "import numpy as np\n",
    "import pandas as pd\n",
    "from pandas.plotting import scatter_matrix\n",
    "import matplotlib.pyplot as plt\n",
    "from sklearn import model_selection\n",
    "from sklearn.metrics import classification_report\n",
    "from sklearn.metrics import confusion_matrix\n",
    "from sklearn.metrics import accuracy_score\n",
    "from sklearn.linear_model import LogisticRegression\n",
    "from sklearn.tree import DecisionTreeClassifier\n",
    "from sklearn.neighbors import KNeighborsClassifier\n",
    "from sklearn.discriminant_analysis import LinearDiscriminantAnalysis\n",
    "from sklearn.naive_bayes import GaussianNB\n",
    "from sklearn.svm import SVC"
   ]
  },
  {
   "cell_type": "code",
   "execution_count": 3,
   "metadata": {},
   "outputs": [],
   "source": [
    "data = pd.read_csv(\"facade_dealer.csv\")"
   ]
  },
  {
   "cell_type": "code",
   "execution_count": 4,
   "metadata": {},
   "outputs": [
    {
     "name": "stdout",
     "output_type": "stream",
     "text": [
      "(48, 10)\n"
     ]
    }
   ],
   "source": [
    "print(data.shape)\n"
   ]
  },
  {
   "cell_type": "code",
   "execution_count": 5,
   "metadata": {},
   "outputs": [
    {
     "name": "stdout",
     "output_type": "stream",
     "text": [
      "       Price(/sq mtr)  Lead time(in days)     Rating  \\\n",
      "count       48.000000           48.000000  48.000000   \n",
      "mean        58.124063           20.687500   3.812500   \n",
      "std         58.914725           12.963379   1.552709   \n",
      "min          5.000000            0.000000   0.000000   \n",
      "25%         14.000000           13.000000   3.000000   \n",
      "50%         35.000000           17.000000   4.000000   \n",
      "75%         81.625000           30.000000   5.000000   \n",
      "max        210.000000           50.000000   6.000000   \n",
      "\n",
      "       Address and website avaiable  Response  Time(in hrs)  Response Rate  \\\n",
      "count                     48.000000               48.000000      48.000000   \n",
      "mean                       0.916667               25.229167       2.145833   \n",
      "std                        0.279310               20.858428       1.237526   \n",
      "min                        0.000000                0.000000       0.000000   \n",
      "25%                        1.000000               12.000000       2.000000   \n",
      "50%                        1.000000               12.000000       3.000000   \n",
      "75%                        1.000000               36.000000       3.000000   \n",
      "max                        1.000000               75.000000       3.000000   \n",
      "\n",
      "       Employee Strength  Annual Revenue(in mil)     Min order  \n",
      "count           48.00000               48.000000     48.000000  \n",
      "mean           206.37500               21.486458    640.354167  \n",
      "std            288.89832               35.145519   2869.468558  \n",
      "min              0.00000                0.000000      1.000000  \n",
      "25%             75.00000                1.500000     10.000000  \n",
      "50%            107.50000                3.750000    100.000000  \n",
      "75%            156.25000               17.250000    350.000000  \n",
      "max           1550.00000              100.000000  20000.000000  \n"
     ]
    }
   ],
   "source": [
    "print(data.describe())"
   ]
  },
  {
   "cell_type": "code",
   "execution_count": 6,
   "metadata": {},
   "outputs": [],
   "source": [
    "array = data.values\n",
    "X = np.array(data.drop(['Supplier/vendor'],1))\n",
    "y = np.array(data['Supplier/vendor'])\n",
    "validation_size = 0.20\n",
    "seed = 7\n",
    "X_train, X_validation, Y_train, Y_validation = model_selection.train_test_split(X, y, test_size=validation_size, random_state=seed)\n",
    "seed = 7\n",
    "scoring = 'accuracy'"
   ]
  },
  {
   "cell_type": "code",
   "execution_count": 7,
   "metadata": {
    "scrolled": true
   },
   "outputs": [
    {
     "name": "stdout",
     "output_type": "stream",
     "text": [
      "Total number of vendors: 48\n",
      "Vendors having rating more than 3: 29\n",
      "Vendors having rating at most 3: 19\n"
     ]
    }
   ],
   "source": [
    "n_vendors = len(data.index)\n",
    "n_greater_3 = len(data[data['Rating']>3].index)\n",
    "n_at_most_3 = n_vendors-n_greater_3\n",
    "\n",
    "print(\"Total number of vendors: {}\".format(n_vendors))\n",
    "print(\"Vendors having rating more than 3: {}\".format(n_greater_3))\n",
    "print(\"Vendors having rating at most 3: {}\".format(n_at_most_3))\n"
   ]
  },
  {
   "cell_type": "markdown",
   "metadata": {},
   "source": [
    "DATASET\n",
    "\n",
    "The dataset was obtained from websites like Alibaba.com and globalresources.com. \n",
    "The dataset consists of following information\n",
    "•\tVendor name: Name of the vendor selling the product.\n",
    "•\tPrice: The price at which product is being sold(per square meter)\n",
    "•\tDelivery Time: Number of days in which delivery can be expected.\n",
    "•\tRating: Rating of the Vendor (out of 6).\n",
    "•\tVendor has an address and a website: Takes values 0 for NO and 1 for YES. It is mandatory for all vendors to have a website and an address.\n",
    "•\tResponse Time: Average time a vendor takes to respond to clients.\n",
    "•\tResponse Rate: How likely is it for the vendor to respond to the concerns of the client? This can take values 1 for Low, 2 for Medium and 3 for High.\n",
    "•\tEmployee Strength: Average number of employees working under the vendor.\n",
    "•\tAnnual Revenue: Annual revenue of the vendor in million\n",
    "•\tMinimum order: Minimum quantity for order to be placed"
   ]
  },
  {
   "cell_type": "code",
   "execution_count": 8,
   "metadata": {},
   "outputs": [
    {
     "name": "stdout",
     "output_type": "stream",
     "text": [
      "The time taken for data processing: 0.00sec\n",
      "Accuracy of Decision Tree classifier on training set: 1.00\n",
      "Accuracy of Decision Tree classifier on test set: 0.00\n"
     ]
    },
    {
     "name": "stderr",
     "output_type": "stream",
     "text": [
      "C:\\Users\\shailza\\Anaconda2\\lib\\site-packages\\sklearn\\cross_validation.py:41: DeprecationWarning: This module was deprecated in version 0.18 in favor of the model_selection module into which all the refactored classes and functions are moved. Also note that the interface of the new CV iterators are different from that of this module. This module will be removed in 0.20.\n",
      "  \"This module will be removed in 0.20.\", DeprecationWarning)\n"
     ]
    }
   ],
   "source": [
    "from sklearn.tree import DecisionTreeClassifier\n",
    "from sklearn.cross_validation import train_test_split\n",
    "import time\n",
    "X = np.array(data.drop(['Supplier/vendor'],1))\n",
    "y = np.array(data['Supplier/vendor'])\n",
    "X_train, X_test, y_train, y_test = train_test_split( X, y,test_size=0.4,random_state = 0)\n",
    "start_time = time.clock()\n",
    "clf_gini = DecisionTreeClassifier(random_state = 1).fit(X_train, y_train)\n",
    "end_time = time.clock()\n",
    "time_taken = end_time - start_time\n",
    "print ('The time taken for data processing: {:.2f}sec'.format(time_taken))\n",
    "print('Accuracy of Decision Tree classifier on training set: {:.2f}'.format(clf_gini.score(X_train, y_train)))\n",
    "print('Accuracy of Decision Tree classifier on test set: {:.2f}'.format(clf_gini.score(X_test, y_test))) \n"
   ]
  },
  {
   "cell_type": "code",
   "execution_count": 9,
   "metadata": {},
   "outputs": [
    {
     "data": {
      "image/png": "[encoded data removed]",
      "text/plain": [
       "<Figure size 432x288 with 1 Axes>"
      ]
     },
     "metadata": {},
     "output_type": "display_data"
    }
   ],
   "source": [
    "feature = list(zip(map(lambda x: round(x, 4), clf_gini.feature_importances_), data))\n",
    "\n",
    "imp_names = []\n",
    "imp_values = []\n",
    "for i in feature:\n",
    "    if i[0] != 0.0:\n",
    "        imp_names.append(i[1])\n",
    "        imp_values.append(i[0])\n",
    "    else:\n",
    "        pass    \n",
    "length = np.arange(len(imp_names))\n",
    "plt.barh(length, imp_values, align='center', alpha=0.5)\n",
    "plt.yticks(length, imp_names)\n",
    "plt.ylabel('Feature name')\n",
    "plt.xlabel('Feature importance')\n",
    "plt.show()"
   ]
  },
  {
   "cell_type": "markdown",
   "metadata": {},
   "source": [
    "Now we know that most important featureset are these:\n",
    "1) Address and website available\n",
    "2) Response Rate\n",
    "3) Employee Strength\n",
    "4) Price\n",
    "5) Annual Revenue"
   ]
  },
  {
   "cell_type": "markdown",
   "metadata": {},
   "source": [
    "As per problem statement we know that feature 1: having an address and a website is a mandatory feature:\n",
    "1)Address and website available: must be 1( or a yes)\n",
    "2) Response rate: Must be 2( or high)\n",
    "3) Employee strength: Desired to be more\n",
    "4) Price : price"
   ]
  },
  {
   "cell_type": "code",
   "execution_count": 10,
   "metadata": {},
   "outputs": [
    {
     "data": {
      "text/html": [
       "<div>\n",
       "<style scoped>\n",
       "    .dataframe tbody tr th:only-of-type {\n",
       "        vertical-align: middle;\n",
       "    }\n",
       "\n",
       "    .dataframe tbody tr th {\n",
       "        vertical-align: top;\n",
       "    }\n",
       "\n",
       "    .dataframe thead th {\n",
       "        text-align: right;\n",
       "    }\n",
       "</style>\n",
       "<table border=\"1\" class=\"dataframe\">\n",
       "  <thead>\n",
       "    <tr style=\"text-align: right;\">\n",
       "      <th></th>\n",
       "      <th>Price(/sq mtr)</th>\n",
       "      <th>Lead time(in days)</th>\n",
       "      <th>Rating</th>\n",
       "      <th>Address and website avaiable</th>\n",
       "      <th>Response  Time(in hrs)</th>\n",
       "      <th>Response Rate</th>\n",
       "      <th>Employee Strength</th>\n",
       "      <th>Annual Revenue(in mil)</th>\n",
       "      <th>Min order</th>\n",
       "    </tr>\n",
       "  </thead>\n",
       "  <tbody>\n",
       "    <tr>\n",
       "      <th>count</th>\n",
       "      <td>48.000000</td>\n",
       "      <td>48.000000</td>\n",
       "      <td>48.000000</td>\n",
       "      <td>48.000000</td>\n",
       "      <td>48.000000</td>\n",
       "      <td>48.000000</td>\n",
       "      <td>48.00000</td>\n",
       "      <td>48.000000</td>\n",
       "      <td>48.000000</td>\n",
       "    </tr>\n",
       "    <tr>\n",
       "      <th>mean</th>\n",
       "      <td>58.124063</td>\n",
       "      <td>20.687500</td>\n",
       "      <td>3.812500</td>\n",
       "      <td>0.916667</td>\n",
       "      <td>25.229167</td>\n",
       "      <td>2.145833</td>\n",
       "      <td>206.37500</td>\n",
       "      <td>21.486458</td>\n",
       "      <td>640.354167</td>\n",
       "    </tr>\n",
       "    <tr>\n",
       "      <th>std</th>\n",
       "      <td>58.914725</td>\n",
       "      <td>12.963379</td>\n",
       "      <td>1.552709</td>\n",
       "      <td>0.279310</td>\n",
       "      <td>20.858428</td>\n",
       "      <td>1.237526</td>\n",
       "      <td>288.89832</td>\n",
       "      <td>35.145519</td>\n",
       "      <td>2869.468558</td>\n",
       "    </tr>\n",
       "    <tr>\n",
       "      <th>min</th>\n",
       "      <td>5.000000</td>\n",
       "      <td>0.000000</td>\n",
       "      <td>0.000000</td>\n",
       "      <td>0.000000</td>\n",
       "      <td>0.000000</td>\n",
       "      <td>0.000000</td>\n",
       "      <td>0.00000</td>\n",
       "      <td>0.000000</td>\n",
       "      <td>1.000000</td>\n",
       "    </tr>\n",
       "    <tr>\n",
       "      <th>25%</th>\n",
       "      <td>14.000000</td>\n",
       "      <td>13.000000</td>\n",
       "      <td>3.000000</td>\n",
       "      <td>1.000000</td>\n",
       "      <td>12.000000</td>\n",
       "      <td>2.000000</td>\n",
       "      <td>75.00000</td>\n",
       "      <td>1.500000</td>\n",
       "      <td>10.000000</td>\n",
       "    </tr>\n",
       "    <tr>\n",
       "      <th>50%</th>\n",
       "      <td>35.000000</td>\n",
       "      <td>17.000000</td>\n",
       "      <td>4.000000</td>\n",
       "      <td>1.000000</td>\n",
       "      <td>12.000000</td>\n",
       "      <td>3.000000</td>\n",
       "      <td>107.50000</td>\n",
       "      <td>3.750000</td>\n",
       "      <td>100.000000</td>\n",
       "    </tr>\n",
       "    <tr>\n",
       "      <th>75%</th>\n",
       "      <td>81.625000</td>\n",
       "      <td>30.000000</td>\n",
       "      <td>5.000000</td>\n",
       "      <td>1.000000</td>\n",
       "      <td>36.000000</td>\n",
       "      <td>3.000000</td>\n",
       "      <td>156.25000</td>\n",
       "      <td>17.250000</td>\n",
       "      <td>350.000000</td>\n",
       "    </tr>\n",
       "    <tr>\n",
       "      <th>max</th>\n",
       "      <td>210.000000</td>\n",
       "      <td>50.000000</td>\n",
       "      <td>6.000000</td>\n",
       "      <td>1.000000</td>\n",
       "      <td>75.000000</td>\n",
       "      <td>3.000000</td>\n",
       "      <td>1550.00000</td>\n",
       "      <td>100.000000</td>\n",
       "      <td>20000.000000</td>\n",
       "    </tr>\n",
       "  </tbody>\n",
       "</table>\n",
       "</div>"
      ],
      "text/plain": [
       "       Price(/sq mtr)  Lead time(in days)     Rating  \\\n",
       "count       48.000000           48.000000  48.000000   \n",
       "mean        58.124063           20.687500   3.812500   \n",
       "std         58.914725           12.963379   1.552709   \n",
       "min          5.000000            0.000000   0.000000   \n",
       "25%         14.000000           13.000000   3.000000   \n",
       "50%         35.000000           17.000000   4.000000   \n",
       "75%         81.625000           30.000000   5.000000   \n",
       "max        210.000000           50.000000   6.000000   \n",
       "\n",
       "       Address and website avaiable  Response  Time(in hrs)  Response Rate  \\\n",
       "count                     48.000000               48.000000      48.000000   \n",
       "mean                       0.916667               25.229167       2.145833   \n",
       "std                        0.279310               20.858428       1.237526   \n",
       "min                        0.000000                0.000000       0.000000   \n",
       "25%                        1.000000               12.000000       2.000000   \n",
       "50%                        1.000000               12.000000       3.000000   \n",
       "75%                        1.000000               36.000000       3.000000   \n",
       "max                        1.000000               75.000000       3.000000   \n",
       "\n",
       "       Employee Strength  Annual Revenue(in mil)     Min order  \n",
       "count           48.00000               48.000000     48.000000  \n",
       "mean           206.37500               21.486458    640.354167  \n",
       "std            288.89832               35.145519   2869.468558  \n",
       "min              0.00000                0.000000      1.000000  \n",
       "25%             75.00000                1.500000     10.000000  \n",
       "50%            107.50000                3.750000    100.000000  \n",
       "75%            156.25000               17.250000    350.000000  \n",
       "max           1550.00000              100.000000  20000.000000  "
      ]
     },
     "execution_count": 10,
     "metadata": {},
     "output_type": "execute_result"
    }
   ],
   "source": [
    "data.describe()\n"
   ]
  },
  {
   "cell_type": "code",
   "execution_count": 15,
   "metadata": {},
   "outputs": [
    {
     "name": "stdout",
     "output_type": "stream",
     "text": [
      "[2.725000000000001, -12.121799999999999, -11.642, -6.89, -15.673, -5.247999999999998, 0.0, -37.37, -13.562999999999999, -29.725, -20.235, -9.55, 0.0, -95.03, 4.649999999999999, -13.02, -50.61, 7.789999999999996, -26.88, 0.0, 15.715000000000003, -1.2500000000000018, -354.09999999999997, -31.448, -15.9312, 30.610000000000007, -11.912, -11.984, -12.038, 6.999999999999993, -38.88, -9.015, -33.15, -27.43, -22.501100000000005, -92.26, -80.30999999999999, -12.092, -73.39, -101.14, -11.822000000000001, -22.509999999999998, -0.0, -208.255, -189.775, -36.18, -77.11, -10.740000000000002]\n"
     ]
    }
   ],
   "source": [
    "reward=[]\n",
    "for i in range(48):\n",
    "  reward.append(X[i][3]*((0.18*X[i][0])+(0.11*X[i][1])+(0.03*X[i][2])+(0.075 * X[i][4])-(0.12*X[i][5])-(0.23*X[i][6])-(0.14*X[i][7])))\n",
    "print(reward)  \n",
    "   \n"
   ]
  },
  {
   "cell_type": "code",
   "execution_count": 16,
   "metadata": {},
   "outputs": [
    {
     "name": "stdout",
     "output_type": "stream",
     "text": [
      "[42  6 19 12  0 29 17 20 25 14]\n"
     ]
    }
   ],
   "source": [
    "ind = np.argpartition(reward, -10)[-10:]\n",
    "print(ind)"
   ]
  },
  {
   "cell_type": "code",
   "execution_count": 17,
   "metadata": {},
   "outputs": [
    {
     "name": "stdout",
     "output_type": "stream",
     "text": [
      "Taian Zhuoyue Laser Ltd.\n",
      "Foshan GF Curtain Wall Co., Ltd.\n",
      "Guangzhou Apro Building Material Co., Ltd.\n",
      "Foshan Sunmei Composite Materials Co., Ltd.\n",
      "Anping County Huihao Hardware Mesh Product Co., Ltd.\n",
      "Jiangsu Jingtai Glass Co., Ltd\n",
      "Guangxi Fumeiyao Energy-Saving Windows & Doors Co., Ltd.\n",
      "Guangzhou Wega Building Decoration Engineering Co., Ltd.\n",
      "Hwarrior Curtain Wall Engineering (Guangzhou) Co., Ltd.\n",
      "Foshan Yigo Hardware Limited\n"
     ]
    }
   ],
   "source": [
    "for j in range(len(ind)):\n",
    "    print(y[ind[j]])"
   ]
  },
  {
   "cell_type": "code",
   "execution_count": null,
   "metadata": {},
   "outputs": [],
   "source": []
  }
 ],
 "metadata": {
  "kernelspec": {
   "display_name": "Python 2",
   "language": "python",
   "name": "python2"
  },
  "language_info": {
   "codemirror_mode": {
    "name": "ipython",
    "version": 2
   },
   "file_extension": ".py",
   "mimetype": "text/x-python",
   "name": "python",
   "nbconvert_exporter": "python",
   "pygments_lexer": "ipython2",
   "version": "2.7.15"
  }
 },
 "nbformat": 4,
 "nbformat_minor": 2
}
